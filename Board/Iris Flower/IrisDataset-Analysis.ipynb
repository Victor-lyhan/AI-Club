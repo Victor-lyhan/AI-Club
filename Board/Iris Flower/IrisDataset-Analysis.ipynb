{
 "cells": [
  {
   "cell_type": "markdown",
   "metadata": {},
   "source": [
    "# Iris Flower Dataset\n",
    "## 1. Read and analyzed data from the csv file\n",
    "* Storing the data in a \"dataframe\" (from Pandas package)\n",
    "* Analyzing the data through different means\n",
    "## 2. Implemented several machine learning algorithms\n",
    "### Manipulating the dataset - Train-Test split\n",
    "### Training the model - Fit \n",
    "* Linear Regression\n",
    "* Random Forest\n",
    "* k-means clustering\n",
    "* (updating...)\n",
    "## 3. Tested the accuracy of models\n",
    "* Prediction - ***\n",
    "* MSE (Mean Squared Error) - from sklearn module\n",
    "* \"Score\" - from sklearn module"
   ]
  },
  {
   "cell_type": "markdown",
   "metadata": {},
   "source": [
    "_______"
   ]
  },
  {
   "cell_type": "markdown",
   "metadata": {},
   "source": [
    "## Importing the Libraries Donwloaded into the Python Environment"
   ]
  },
  {
   "cell_type": "code",
   "execution_count": 2,
   "metadata": {},
   "outputs": [],
   "source": [
    "import matplotlib.pyplot as plt\n",
    "import pandas as pd\n",
    "import numpy as np\n",
    "import seaborn as sns\n",
    "from sklearn.model_selection import train_test_split, cross_val_score\n",
    "from sklearn.linear_model import LinearRegression\n",
    "from sklearn.ensemble import RandomForestRegressor\n",
    "from sklearn.svm import SVR\n",
    "from sklearn.metrics import mean_squared_error"
   ]
  },
  {
   "cell_type": "markdown",
   "metadata": {},
   "source": [
    "In the cell above:\n",
    "* matplot lib -> graphing the data\n",
    "* pandas -> working with dataset\n",
    "* numpy -> scientific computing and data analysis\n",
    "* seaborn, sklearn -> ML libraries (where we get the algorithms from)"
   ]
  },
  {
   "cell_type": "markdown",
   "metadata": {},
   "source": [
    "## Analyzing the Dataset"
   ]
  }
 ],
 "metadata": {
  "kernelspec": {
   "display_name": ".venv-aiClub",
   "language": "python",
   "name": "python3"
  },
  "language_info": {
   "codemirror_mode": {
    "name": "ipython",
    "version": 3
   },
   "file_extension": ".py",
   "mimetype": "text/x-python",
   "name": "python",
   "nbconvert_exporter": "python",
   "pygments_lexer": "ipython3",
   "version": "3.9.6"
  }
 },
 "nbformat": 4,
 "nbformat_minor": 2
}
